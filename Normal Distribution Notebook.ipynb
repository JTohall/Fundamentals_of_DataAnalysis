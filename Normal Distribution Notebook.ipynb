{
 "cells": [
  {
   "cell_type": "markdown",
   "id": "da79c96e",
   "metadata": {},
   "source": [
    "\n",
    "\n",
    "\n",
    "# Normal Distribution\n",
    "\n",
    "---"
   ]
  },
  {
   "cell_type": "markdown",
   "id": "9afc22b5",
   "metadata": {},
   "source": [
    "\n",
    "### Fundamentals of Data Analysis\n",
    "**Author:** Jamie Tohall<br/>\n",
    "**Student Number:** G00411380<br/>\n",
    "**Lecturer:** Ian McLoughlin<br/>\n",
    "\n",
    "---"
   ]
  },
  {
   "cell_type": "markdown",
   "id": "0b1bb722",
   "metadata": {},
   "source": [
    "## Introduction\n",
    "\n",
    "**What is normal distribution?**\n",
    "\n",
    "---"
   ]
  },
  {
   "cell_type": "markdown",
   "id": "704c666f",
   "metadata": {},
   "source": [
    "## References\n",
    "\n",
    "[1]"
   ]
  },
  {
   "cell_type": "code",
   "execution_count": null,
   "id": "84b36f60",
   "metadata": {},
   "outputs": [],
   "source": []
  }
 ],
 "metadata": {
  "kernelspec": {
   "display_name": "Python 3 (ipykernel)",
   "language": "python",
   "name": "python3"
  },
  "language_info": {
   "codemirror_mode": {
    "name": "ipython",
    "version": 3
   },
   "file_extension": ".py",
   "mimetype": "text/x-python",
   "name": "python",
   "nbconvert_exporter": "python",
   "pygments_lexer": "ipython3",
   "version": "3.9.7"
  }
 },
 "nbformat": 4,
 "nbformat_minor": 5
}
