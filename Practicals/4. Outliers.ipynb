{
 "cells": [
  {
   "cell_type": "markdown",
   "id": "ae201d3c",
   "metadata": {},
   "source": [
    "# Outliers\n",
    "---"
   ]
  },
  {
   "cell_type": "markdown",
   "id": "0e094b72",
   "metadata": {},
   "source": [
    "### Exercise 1\n",
    "\n",
    "Create box plots on a single set of axes for all five experiments in the morley data set."
   ]
  },
  {
   "cell_type": "markdown",
   "id": "3c9c6fd4",
   "metadata": {},
   "source": [
    "---"
   ]
  },
  {
   "cell_type": "markdown",
   "id": "d87362d3",
   "metadata": {},
   "source": [
    "### Exercise 2\n",
    "\n",
    "Create box plots for all of the numercial variables in Fisher's Iris Data Set."
   ]
  },
  {
   "cell_type": "markdown",
   "id": "5a2ec6d4",
   "metadata": {},
   "source": [
    "---"
   ]
  },
  {
   "cell_type": "markdown",
   "id": "106357c5",
   "metadata": {},
   "source": [
    "### Exercise 3\n",
    "\n",
    "Adapt the above code and plots so that the overall plot is inversely propertional and the individual groups are directly proportional."
   ]
  },
  {
   "cell_type": "markdown",
   "id": "bde1efd7",
   "metadata": {},
   "source": [
    "---"
   ]
  },
  {
   "cell_type": "markdown",
   "id": "7d35cce9",
   "metadata": {},
   "source": [
    "### References"
   ]
  },
  {
   "cell_type": "code",
   "execution_count": null,
   "id": "f950d0de",
   "metadata": {},
   "outputs": [],
   "source": []
  }
 ],
 "metadata": {
  "kernelspec": {
   "display_name": "Python 3 (ipykernel)",
   "language": "python",
   "name": "python3"
  },
  "language_info": {
   "codemirror_mode": {
    "name": "ipython",
    "version": 3
   },
   "file_extension": ".py",
   "mimetype": "text/x-python",
   "name": "python",
   "nbconvert_exporter": "python",
   "pygments_lexer": "ipython3",
   "version": "3.9.7"
  }
 },
 "nbformat": 4,
 "nbformat_minor": 5
}
