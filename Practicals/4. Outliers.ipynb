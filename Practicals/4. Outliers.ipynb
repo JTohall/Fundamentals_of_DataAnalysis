{
 "cells": [
  {
   "cell_type": "markdown",
   "id": "ae201d3c",
   "metadata": {},
   "source": [
    "# Outliers\n",
    "---"
   ]
  },
  {
   "cell_type": "markdown",
   "id": "0e094b72",
   "metadata": {},
   "source": [
    "\n",
    "\n",
    "### Exercise 1\n",
    "\n",
    "**Create box plots on a single set of axes for all five experiments in the morley data set.**\n",
    "<br/>"
   ]
  },
  {
   "cell_type": "code",
   "execution_count": 217,
   "id": "405be85f",
   "metadata": {},
   "outputs": [],
   "source": [
    "# Numerical arrays.\n",
    "import numpy as np\n",
    "\n",
    "# Plotting.\n",
    "import matplotlib.pyplot as plt\n",
    "\n",
    "# Statistics.\n",
    "import scipy.stats as ss\n",
    "\n",
    "import pandas as pd"
   ]
  },
  {
   "cell_type": "code",
   "execution_count": 218,
   "id": "9c167a4d",
   "metadata": {},
   "outputs": [],
   "source": [
    "# Read in the morley data set that I saved to my practicals folder\n",
    "\n",
    "data = np.genfromtxt('morley.csv', skip_header=1, delimiter=',', deletechars='\"')"
   ]
  },
  {
   "cell_type": "code",
   "execution_count": 219,
   "id": "afe109d8",
   "metadata": {},
   "outputs": [
    {
     "data": {
      "text/plain": [
       "(100, 3)"
      ]
     },
     "execution_count": 219,
     "metadata": {},
     "output_type": "execute_result"
    }
   ],
   "source": [
    "# Just checking I downloaded the correct dataset\n",
    "\n",
    "data.shape"
   ]
  },
  {
   "cell_type": "code",
   "execution_count": 220,
   "id": "6e756543",
   "metadata": {},
   "outputs": [
    {
     "data": {
      "text/plain": [
       "array([ 850.,  740.,  900., 1070.,  930.,  850.,  950.,  980.,  980.,\n",
       "        880., 1000.,  980.,  930.,  650.,  760.,  810., 1000., 1000.,\n",
       "        960.,  960.])"
      ]
     },
     "execution_count": 220,
     "metadata": {},
     "output_type": "execute_result"
    }
   ],
   "source": [
    "# Gathering the data for the five experiments.\n",
    "\n",
    "# Experiment One\n",
    "\n",
    "exp1 = data[:20, 2]\n",
    "\n",
    "exp1"
   ]
  },
  {
   "cell_type": "code",
   "execution_count": 221,
   "id": "2c99a59a",
   "metadata": {},
   "outputs": [
    {
     "data": {
      "text/plain": [
       "array([960., 940., 960., 940., 880., 800., 850., 880., 900., 840., 830.,\n",
       "       790., 810., 880., 880., 830., 800., 790., 760., 800.])"
      ]
     },
     "execution_count": 221,
     "metadata": {},
     "output_type": "execute_result"
    }
   ],
   "source": [
    "# Experiment Two\n",
    "\n",
    "exp2 = data[20:40, 2]\n",
    "\n",
    "exp2\n"
   ]
  },
  {
   "cell_type": "code",
   "execution_count": 222,
   "id": "715b44c8",
   "metadata": {},
   "outputs": [
    {
     "data": {
      "text/plain": [
       "array([880., 880., 880., 860., 720., 720., 620., 860., 970., 950., 880.,\n",
       "       910., 850., 870., 840., 840., 850., 840., 840., 840.])"
      ]
     },
     "execution_count": 222,
     "metadata": {},
     "output_type": "execute_result"
    }
   ],
   "source": [
    "# Experiment Three\n",
    "\n",
    "exp3 = data[40:60, 2]\n",
    "\n",
    "exp3"
   ]
  },
  {
   "cell_type": "code",
   "execution_count": 223,
   "id": "9c82d6c8",
   "metadata": {},
   "outputs": [
    {
     "data": {
      "text/plain": [
       "array([890., 810., 810., 820., 800., 770., 760., 740., 750., 760., 910.,\n",
       "       920., 890., 860., 880., 720., 840., 850., 850., 780.])"
      ]
     },
     "execution_count": 223,
     "metadata": {},
     "output_type": "execute_result"
    }
   ],
   "source": [
    "# Experiment Four\n",
    "\n",
    "exp4 = data[60:80, 2]\n",
    "\n",
    "exp4"
   ]
  },
  {
   "cell_type": "code",
   "execution_count": 224,
   "id": "8d95939b",
   "metadata": {},
   "outputs": [
    {
     "data": {
      "text/plain": [
       "array([890., 840., 780., 810., 760., 810., 790., 810., 820., 850., 870.,\n",
       "       870., 810., 740., 810., 940., 950., 800., 810., 870.])"
      ]
     },
     "execution_count": 224,
     "metadata": {},
     "output_type": "execute_result"
    }
   ],
   "source": [
    "# Experiment Five\n",
    "\n",
    "exp5 = data[80:100, 2]\n",
    "\n",
    "exp5"
   ]
  },
  {
   "cell_type": "code",
   "execution_count": 225,
   "id": "d0d93ef4",
   "metadata": {},
   "outputs": [
    {
     "data": {
      "image/png": "[encoded data removed]",
      "text/plain": [
       "<Figure size 432x288 with 1 Axes>"
      ]
     },
     "metadata": {
      "needs_background": "light"
     },
     "output_type": "display_data"
    }
   ],
   "source": [
    "# Create a box plot.\n",
    "\n",
    "plt.boxplot(np.array([exp1, exp2, exp3, exp4, exp5]).T);"
   ]
  },
  {
   "cell_type": "markdown",
   "id": "3c9c6fd4",
   "metadata": {},
   "source": [
    "---"
   ]
  },
  {
   "cell_type": "markdown",
   "id": "d87362d3",
   "metadata": {},
   "source": [
    "<br/>\n",
    "\n",
    "### Exercise 2\n",
    "\n",
    "**Create box plots for all of the numercial variables in Fisher's Iris Data Set.**\n",
    "\n",
    "<br/>\n"
   ]
  },
  {
   "cell_type": "code",
   "execution_count": 235,
   "id": "acd1be60",
   "metadata": {},
   "outputs": [],
   "source": [
    "import numpy as np\n",
    "import matplotlib.pyplot as plt\n",
    "import pandas as pd\n",
    "\n",
    "# Will firstly read in the Iris Data set using the same code as above\n",
    "\n",
    "dataIris = np.genfromtxt('C:/Users/Jamie/Desktop/iris.data.csv',skip_header=1, delimiter=',', deletechars='\"')"
   ]
  },
  {
   "cell_type": "code",
   "execution_count": 236,
   "id": "916bf635",
   "metadata": {},
   "outputs": [
    {
     "data": {
      "text/plain": [
       "(149, 5)"
      ]
     },
     "execution_count": 236,
     "metadata": {},
     "output_type": "execute_result"
    }
   ],
   "source": [
    "# Shape of CSV file\n",
    "dataIris.shape"
   ]
  },
  {
   "cell_type": "code",
   "execution_count": 245,
   "id": "605eaab1",
   "metadata": {},
   "outputs": [
    {
     "data": {
      "image/png": "[encoded data removed]",
      "text/plain": [
       "<Figure size 432x288 with 1 Axes>"
      ]
     },
     "metadata": {
      "needs_background": "light"
     },
     "output_type": "display_data"
    }
   ],
   "source": [
    "# creating a box plot for all numerical variables in the data set\n",
    "\n",
    "fig, ax = plt.subplots()\n",
    "plt.boxplot(dataIris)\n",
    "\n",
    "# Labelling the different values\n",
    "plt.xticks ([1,2,3,4],[\"Sepal Length\", \"Sepal Width\", \"Petal Length\", \"Petal Width\"])\n",
    "plt.xlabel(\"Variable\")\n",
    "plt.ylabel (\"Numberical Value\")\n",
    "plt.title(\"Numerical Values of Variables in Iris dataset\")\n",
    "plt.show()\n"
   ]
  },
  {
   "cell_type": "markdown",
   "id": "5a2ec6d4",
   "metadata": {},
   "source": [
    "---"
   ]
  },
  {
   "cell_type": "markdown",
   "id": "106357c5",
   "metadata": {},
   "source": [
    "### Exercise 3\n",
    "\n",
    "**Adapt the code and plots so that the overall plot is inversely propertional and the individual groups are directly proportional.**\n",
    "\n",
    "<br/>"
   ]
  },
  {
   "cell_type": "markdown",
   "id": "a369aaac",
   "metadata": {},
   "source": [
    "For this exercise we are being asked to adapt code which is already written by our lecturer. Below is the code copied and pasted from our lecture notes before I adapt it."
   ]
  },
  {
   "cell_type": "code",
   "execution_count": 242,
   "id": "6a75e473",
   "metadata": {},
   "outputs": [
    {
     "data": {
      "image/png": "[encoded data removed]",
      "text/plain": [
       "<Figure size 432x288 with 1 Axes>"
      ]
     },
     "metadata": {
      "needs_background": "light"
     },
     "output_type": "display_data"
    }
   ],
   "source": [
    "# Ians code, which is to be adapted. \n",
    "\n",
    "# Create a series of x vectors.\n",
    "xs = np.array([np.linspace(i, i + 2.0, 20) for i in range(10)])\n",
    "# Create a corresponding series of y vectors.\n",
    "ys = np.array([-1.0 * xs[i] + 2 * i for i in range(len(xs))])\n",
    "\n",
    "# Add some noise.\n",
    "ys = ys + np.random.normal(0.0, 1.0, ys.shape)\n",
    "# Create global list of x and y values.\n",
    "x = xs.flatten()\n",
    "y = ys.flatten()\n",
    "# Plot.\n",
    "plt.plot(x, y, '.');\n",
    "\n",
    "# Best fit line slope and y intercept.\n",
    "m, c = np.polyfit(x, y, 1)\n",
    "# Create a steadily increasing x range for plotting.\n",
    "xbestfit = np.linspace(x.min(), x.max(), 1000)\n",
    "# Create corresponding y values form best fit line.\n",
    "ybestfit = m * xbestfit + c\n",
    "# Plot points.\n",
    "plt.plot(x, y, '.')\n",
    "\n",
    "# Plot line.\n",
    "plt.plot(xbestfit, ybestfit);\n",
    "\n",
    "# Plot the same points, but now with a different colour for each range.\n",
    "for i in range(len(xs)):\n",
    "    plt.plot(xs[i], ys[i], '.')\n",
    "    \n",
    "# Same plot but with best fit lines for each category.\n",
    "for i in range(len(xs)):\n",
    "    # Plot this category.\n",
    "    plt.plot(xs[i], ys[i], '.')\n",
    "    # Fit line to category.\n",
    "    m, c = np.polyfit(xs[i], ys[i], 1)\n",
    "    # Create steadily increasing x range for plot.\n",
    "    xbestfit = np.linspace(xs[i].min(), xs[i].max(), 50)\n",
    "    # Corresponding y values based on best fit line.\n",
    "    ybestfit = m * xbestfit + c\n",
    "    # Plot best fit line for category.\n",
    "    plt.plot(xbestfit, ybestfit, color='lightgrey');"
   ]
  },
  {
   "cell_type": "code",
   "execution_count": 247,
   "id": "18972e2b",
   "metadata": {},
   "outputs": [
    {
     "data": {
      "image/png": "[encoded data removed]",
      "text/plain": [
       "<Figure size 432x288 with 1 Axes>"
      ]
     },
     "metadata": {
      "needs_background": "light"
     },
     "output_type": "display_data"
    }
   ],
   "source": [
    "# Adapted code\n",
    "\n",
    "# To inverse the plot we have to inverse the Y axis. To do this we have to change the Y label to a -Y\n",
    "\n",
    "# Create a series of x vectors.\n",
    "xs = np.array([np.linspace(i, i + 2.0, 20) for i in range(10)])\n",
    "\n",
    "# Create a corresponding series of y vectors.\n",
    "ys = np.array([-1.0 * xs[i] + 2 * i for i in range(len(xs))])\n",
    "\n",
    "# Add some noise.\n",
    "ys = ys + np.random.normal(0.0, 1.0, ys.shape)\n",
    "\n",
    "# Create global list of x and y values.\n",
    "x = xs.flatten()\n",
    "y = ys.flatten()\n",
    "\n",
    "# Plot.\n",
    "plt.plot(x, -y, '.'); # changed to -y \n",
    "\n",
    "# Best fit line slope and y intercept.\n",
    "m, c = np.polyfit(x, -y, 1) = and again here\n",
    "\n",
    "# Create a steadily increasing x range for plotting.\n",
    "xbestfit = np.linspace(x.min(), x.max(), 1000)\n",
    "\n",
    "# Create corresponding y values form best fit line.\n",
    "ybestfit = m * xbestfit + c\n",
    "\n",
    "# Plot points.\n",
    "plt.plot(x, -y, '.') # -y plot point\n",
    "\n",
    "# Plot line.\n",
    "plt.plot(xbestfit, ybestfit);\n",
    "\n",
    "# Plot the same points, but now with a different colour for each range.\n",
    "for i in range(len(xs)):\n",
    "    plt.plot(xs[i], -ys[i], '.')\n",
    "    \n",
    "# Same plot but with best fit lines for each category.\n",
    "for i in range(len(xs)):\n",
    "    \n",
    "    # Plot this category.\n",
    "    plt.plot(xs[i], -ys[i], '.')\n",
    "    \n",
    "    # Fit line to category.\n",
    "    m, c = np.polyfit(xs[i], -ys[i], 1)\n",
    "    \n",
    "    # Create steadily increasing x range for plot.\n",
    "    xbestfit = np.linspace(xs[i].min(), xs[i].max(), 50)\n",
    "    \n",
    "    # Corresponding y values based on best fit line.\n",
    "    ybestfit = m * xbestfit + c\n",
    "    \n",
    "    # Plot best fit line for category.\n",
    "    plt.plot(xbestfit, ybestfit, color='lightgrey');"
   ]
  },
  {
   "cell_type": "markdown",
   "id": "bde1efd7",
   "metadata": {},
   "source": [
    "---"
   ]
  },
  {
   "cell_type": "markdown",
   "id": "7d35cce9",
   "metadata": {},
   "source": [
    "### References\n",
    "\n",
    "[1] https://www.picostat.com/dataset/r-dataset-package-datasets-morley\n",
    "<br/>\n",
    "\n",
    "[2] https://dataschool.com/fundamentals-of-analysis/what-is-an-outlier/#:~:text=An%20outlier%20is%20a%20value%20or%20point%20that,we%20don%E2%80%99t%20want%20to%20include%20in%20our%20analysis.\n",
    "<br/>\n",
    "\n",
    "[3] https://www.geeksforgeeks.org/box-plot-and-histogram-exploration-on-iris-data/\n",
    "<br/>\n",
    "\n",
    "[4] https://www.geeksforgeeks.org/change-plot-size-in-matplotlib-python/\n",
    "<br/>\n",
    "\n",
    "[5] https://www.geeksforgeeks.org/box-plot-and-histogram-exploration-on-iris-data/\n",
    "<br/>\n",
    "\n",
    "[6] https://www.kaggle.com/datasets/vikrishnan/iris-dataset\n",
    "<br/>\n",
    "\n",
    "[7] https://github.com/ianmcloughlin/2223-S1-fund-data-analysis/blob/main/notebooks/04-outliers.ipynb\n",
    "<br/>\n",
    "\n",
    "[8] https://www.geeksforgeeks.org/matplotlib-axes-axes-invert_yaxis-in-python/\n",
    "<br/>\n",
    "\n",
    "[9] "
   ]
  }
 ],
 "metadata": {
  "kernelspec": {
   "display_name": "Python 3 (ipykernel)",
   "language": "python",
   "name": "python3"
  },
  "language_info": {
   "codemirror_mode": {
    "name": "ipython",
    "version": 3
   },
   "file_extension": ".py",
   "mimetype": "text/x-python",
   "name": "python",
   "nbconvert_exporter": "python",
   "pygments_lexer": "ipython3",
   "version": "3.9.7"
  }
 },
 "nbformat": 4,
 "nbformat_minor": 5
}
