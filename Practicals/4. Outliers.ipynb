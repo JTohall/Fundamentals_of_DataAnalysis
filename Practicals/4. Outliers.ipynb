{
 "cells": [
  {
   "cell_type": "markdown",
   "id": "ae201d3c",
   "metadata": {},
   "source": [
    "# Outliers\n",
    "---"
   ]
  },
  {
   "cell_type": "markdown",
   "id": "0e094b72",
   "metadata": {},
   "source": [
    "\n",
    "\n",
    "### Exercise 1\n",
    "\n",
    "**Create box plots on a single set of axes for all five experiments in the morley data set.**\n",
    "<br/>"
   ]
  },
  {
   "cell_type": "code",
   "execution_count": 4,
   "id": "405be85f",
   "metadata": {},
   "outputs": [],
   "source": [
    "# Numerical arrays.\n",
    "import numpy as np\n",
    "\n",
    "# Plotting.\n",
    "import matplotlib.pyplot as plt\n",
    "\n",
    "# Statistics.\n",
    "import scipy.stats as ss"
   ]
  },
  {
   "cell_type": "code",
   "execution_count": 17,
   "id": "9c167a4d",
   "metadata": {},
   "outputs": [
    {
     "ename": "SyntaxError",
     "evalue": "(unicode error) 'unicodeescape' codec can't decode bytes in position 2-3: truncated \\UXXXXXXXX escape (Temp/ipykernel_1244/1093917230.py, line 2)",
     "output_type": "error",
     "traceback": [
      "\u001b[1;36m  File \u001b[1;32m\"C:\\Users\\Jamie\\AppData\\Local\\Temp/ipykernel_1244/1093917230.py\"\u001b[1;36m, line \u001b[1;32m2\u001b[0m\n\u001b[1;33m    data = np.genfromtxt('C:\\Users\\Jamie\\Desktop\\morley.csv', skip_header=1, delimiter=',', deletechars='\"')\u001b[0m\n\u001b[1;37m                                                            ^\u001b[0m\n\u001b[1;31mSyntaxError\u001b[0m\u001b[1;31m:\u001b[0m (unicode error) 'unicodeescape' codec can't decode bytes in position 2-3: truncated \\UXXXXXXXX escape\n"
     ]
    }
   ],
   "source": [
    "# Read in the morley data set\n",
    "data = np.genfromtxt('C:\\Users\\Jamie\\Desktop\\morley.csv', skip_header=1, delimiter=',', deletechars='\"')\n"
   ]
  },
  {
   "cell_type": "markdown",
   "id": "3c9c6fd4",
   "metadata": {},
   "source": [
    "---"
   ]
  },
  {
   "cell_type": "markdown",
   "id": "d87362d3",
   "metadata": {},
   "source": [
    "### Exercise 2\n",
    "\n",
    "Create box plots for all of the numercial variables in Fisher's Iris Data Set."
   ]
  },
  {
   "cell_type": "markdown",
   "id": "5a2ec6d4",
   "metadata": {},
   "source": [
    "---"
   ]
  },
  {
   "cell_type": "markdown",
   "id": "106357c5",
   "metadata": {},
   "source": [
    "### Exercise 3\n",
    "\n",
    "Adapt the above code and plots so that the overall plot is inversely propertional and the individual groups are directly proportional."
   ]
  },
  {
   "cell_type": "markdown",
   "id": "bde1efd7",
   "metadata": {},
   "source": [
    "---"
   ]
  },
  {
   "cell_type": "markdown",
   "id": "7d35cce9",
   "metadata": {},
   "source": [
    "### References\n",
    "\n",
    "[1] https://www.picostat.com/dataset/r-dataset-package-datasets-morley\n",
    "[2] https://dataschool.com/fundamentals-of-analysis/what-is-an-outlier/#:~:text=An%20outlier%20is%20a%20value%20or%20point%20that,we%20don%E2%80%99t%20want%20to%20include%20in%20our%20analysis."
   ]
  },
  {
   "cell_type": "code",
   "execution_count": null,
   "id": "f950d0de",
   "metadata": {},
   "outputs": [],
   "source": []
  }
 ],
 "metadata": {
  "kernelspec": {
   "display_name": "Python 3 (ipykernel)",
   "language": "python",
   "name": "python3"
  },
  "language_info": {
   "codemirror_mode": {
    "name": "ipython",
    "version": 3
   },
   "file_extension": ".py",
   "mimetype": "text/x-python",
   "name": "python",
   "nbconvert_exporter": "python",
   "pygments_lexer": "ipython3",
   "version": "3.9.7"
  }
 },
 "nbformat": 4,
 "nbformat_minor": 5
}
