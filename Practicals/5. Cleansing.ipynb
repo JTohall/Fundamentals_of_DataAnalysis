{
 "cells": [
  {
   "cell_type": "markdown",
   "id": "148f4798",
   "metadata": {},
   "source": [
    "# Cleansing\n",
    "---"
   ]
  },
  {
   "cell_type": "markdown",
   "id": "79689786",
   "metadata": {},
   "source": [
    "### Exercise 1\n",
    "\n",
    "Write a Python function to remove all non-alphanumeric characters from a string."
   ]
  },
  {
   "cell_type": "markdown",
   "id": "9cc300ef",
   "metadata": {},
   "source": [
    "---"
   ]
  },
  {
   "cell_type": "markdown",
   "id": "f0c71720",
   "metadata": {},
   "source": [
    "### Exercise 2\n",
    "\n",
    "Adapt the above code to capitalise the first letter of the iris species, using regular expressions."
   ]
  },
  {
   "cell_type": "markdown",
   "id": "aa891c06",
   "metadata": {},
   "source": [
    "---"
   ]
  },
  {
   "cell_type": "markdown",
   "id": "90c4e440",
   "metadata": {},
   "source": [
    "### References"
   ]
  },
  {
   "cell_type": "code",
   "execution_count": null,
   "id": "56f278b8",
   "metadata": {},
   "outputs": [],
   "source": []
  }
 ],
 "metadata": {
  "kernelspec": {
   "display_name": "Python 3 (ipykernel)",
   "language": "python",
   "name": "python3"
  },
  "language_info": {
   "codemirror_mode": {
    "name": "ipython",
    "version": 3
   },
   "file_extension": ".py",
   "mimetype": "text/x-python",
   "name": "python",
   "nbconvert_exporter": "python",
   "pygments_lexer": "ipython3",
   "version": "3.9.7"
  }
 },
 "nbformat": 4,
 "nbformat_minor": 5
}
