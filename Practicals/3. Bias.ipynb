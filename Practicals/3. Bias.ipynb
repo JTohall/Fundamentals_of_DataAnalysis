{
 "cells": [
  {
   "cell_type": "markdown",
   "id": "5903cd95",
   "metadata": {},
   "source": [
    "# Bias\n",
    "\n",
    "---"
   ]
  },
  {
   "cell_type": "markdown",
   "id": "3722897e",
   "metadata": {},
   "source": [
    "\n",
    "### Exercise 1\n",
    "\n",
    "**Give three real-world examples of different types of cognitive bias.**"
   ]
  },
  {
   "attachments": {},
   "cell_type": "markdown",
   "id": "f1c4457a",
   "metadata": {},
   "source": [
    "<br/>\n",
    "\n",
    "**1. Self Serving Bias**\n",
    "\n",
    "Self-serving cognitive bias is the propensity to attribute positive outcomes to skill and negative outcomes to bad luck. In other words, we attribute the cause of something to whatever is in our own best interest. Many of us can recall times that we’ve done something and decided that if everything is going to plan, it’s due to skill, and if things go the other way, then it’s just bad luck. We rely on this bias as a way of protecting and boosting our own self-esteem. Our minds don’t want to take responsibility for negative or failed outcomes in fear of hurting our confidence.\n",
    "\n",
    "attributes of self serving bias:\n",
    "- Over-inflated ego\n",
    "- Obsession with praise or approval\n",
    "- Taking credit for team efforts\n",
    "- Lack of accountability\n",
    "- Tendency to blame others\n",
    "- Inability to take criticism\n",
    "- Settling for comfortable conclusions\n",
    "- inability to recognise failure\n",
    "\n",
    "\n",
    "<br/>\n",
    "\n",
    "**2. Framing Cognitive Bias**\n",
    "\n",
    "Framing or framing effect is when someone makes a decision because of the way information is presented to them, rather than based just on the facts. In other words, if someone sees the same facts presented in a different way, they are likely to come to a different conclusion about the information. Investors may pick investments differently, depending on how the opportunity is presented to them.\n",
    "Organizations take advantage of the framing effect through putting importance on certain information, presenting the information in a certain way, and utilizing specific language that capitalize on cognitive bias. Many different types of organizations implement framing effect through the marketing of their products or services.\n",
    "\n",
    "Some examples of different types of marketing framing effects:\n",
    "\n",
    "- Retailers might alert a potential buyer that they only have a limited number of certain items left ie \"10 left, order now to get yours!\" This is another simple example yet effective strategy that companies will use when trying to sell a product. It utilizes the cognitive bias that people are afraid to miss out and will act to avoid missing something.\n",
    "- Labeling yogurt as 90% fat free as opposed to 10% fat, another marketing strategy to make the yogurt more appealing for customers.\n",
    "- Using a soft and soothing tone of voice compared to a harsh and aggressive tone is an example of auditory framing.\n",
    "- A restaurant takes close-up photos of its meals to make the portions appear larger; an example of visual framing.\n",
    "- Buying a package of ground beef that is labeled as 75% lean but passing on a package labeled as 25% fat.\n",
    "\n",
    "\n",
    "<br/>\n",
    "\n",
    "**3. Confirmation Bias**\n",
    "\n",
    "Confirmation bias is the idea that people seek out information and data that confirms their pre-existing ideas. They tend to ignore contrary information. People display this bias when they interpret ambiguous evidence as supporting their existing attitudes. The effect is strongest for desired outcomes, for emotionally charged issues, and for deeply entrenched beliefs.\n",
    "\n",
    "<br/>\n",
    "There are three different types of Bias confirmation:\n",
    "\n",
    "- Biased search for information <br/>\n",
    "Information sourcing bias is determining how to pursue information based on existing opinions. By seeking out evidence that supports your belief, you can disregard important evidence and have imbalanced test results. A common form of biased data collection is the way you phrase the question.\n",
    "<br/>\n",
    "\n",
    "- Biased interpretation of information <br/>\n",
    "Biased interpretation involves perceiving data unevenly, with the resulting information impacting your analysis. This bias occurs with complex issues, where there are multiple ways you can interpret the information. A common occurrence involves researchers scrutinizing certain data more rigorously than others. Uneven data processing can cause incorrect results.\n",
    "<br/>\n",
    "\n",
    "- Biased memory recall of information <br/>\n",
    "Biased memory is subconsciously recalling information differently based on how it impacts your beliefs. It involves remembering supportive details better than details that are inconsistent with your opinions. This bias type occurs both in memory recall and accuracy. This cognitive bias involves remembering ideas you agree with more clearly and more accurately recalling incidents that agree with your worldview.\n",
    "\n",
    "<br/>\n",
    "\n"
   ]
  },
  {
   "cell_type": "markdown",
   "id": "c457d601",
   "metadata": {},
   "source": [
    "---\n",
    "\n",
    "### Exercise 2\n",
    "\n",
    "**Show that the difference between the standard deviation calculations is greatest for small sample sizes.**"
   ]
  },
  {
   "cell_type": "code",
   "execution_count": 1,
   "id": "2128a4da",
   "metadata": {},
   "outputs": [],
   "source": [
    "# Numerical arrays.\n",
    "import numpy as np\n",
    "\n",
    "# Plots.\n",
    "import matplotlib.pyplot as plt"
   ]
  },
  {
   "cell_type": "markdown",
   "id": "7461e5cb",
   "metadata": {},
   "source": [
    "Standard Deviation\n",
    "The standard deviation is a different story.\n",
    "\n",
    "First of all, the calculation is not as familiar.\n",
    "\n",
    "It is designed to give a measure of how far the numbers are away from the mean in general.\n",
    "\n",
    "The need for a such a measure is seen in the following example of calculating the mean of two sets of numbers.\n",
    "\n",
    "A list of numbers - four small and one big.\n",
    "numbers1 = np.array([1, 1, 1, 1, 10])\n",
    "\n",
    "Their mean.\n",
    "np.mean(numbers1)\n",
    "2.8\n",
    "A list of numbers - all close to each other.\n",
    "numbers2 = np.array([2, 2, 3, 3, 4])\n",
    "\n",
    "Their mean.\n",
    "np.mean(numbers2)"
   ]
  },
  {
   "cell_type": "markdown",
   "id": "68934da4",
   "metadata": {},
   "source": [
    "---\n",
    "\n",
    "## References\n",
    "\n",
    "[1] https://corporatefinanceinstitute.com/resources/wealth-management/list-top-10-types-cognitive-bias/\n",
    "<br/>\n",
    "\n",
    "[2] https://www.projectmanager.com/blog/self-serving-bias-workplace\n",
    "<br/>\n",
    "\n",
    "[3]https://en.wikipedia.org/wiki/Framing_effect_(psychology)#:~:text=Framing%20effect%20%28psychology%29%20The%20framing%20effect%20is%20a,seek%20risks%20when%20a%20negative%20frame%20is%20presented.\n",
    "<br/>\n",
    "\n",
    "[4] https://study.com/academy/lesson/framing-effect-definition-examples.html#:~:text=The%20framing%20effect%20in%20marketing%20can\n",
    "<br/>\n",
    "\n",
    "[5] https://helpfulprofessor.com/framing-bias-examples/\n",
    "<br/>\n",
    "\n",
    "[6] https://www.simplypsychology.org/self-serving-bias.html\n",
    "<br/>\n",
    "\n",
    "[7] https://www.simplypsychology.org/confirmation-bias.html\n",
    "<br/>\n",
    "\n",
    "[8] https://ca.indeed.com/career-advice/career-development/what-is-confirmation-bias#:~:text=The%20three%20types%20of%20confirmation%20bias%20include%3A%201,impacting%20your%20analysis.%20...%203%203.%20Memory%20bias\n",
    "<br/>"
   ]
  },
  {
   "cell_type": "code",
   "execution_count": null,
   "id": "684a0812",
   "metadata": {},
   "outputs": [],
   "source": []
  }
 ],
 "metadata": {
  "kernelspec": {
   "display_name": "Python 3 (ipykernel)",
   "language": "python",
   "name": "python3"
  },
  "language_info": {
   "codemirror_mode": {
    "name": "ipython",
    "version": 3
   },
   "file_extension": ".py",
   "mimetype": "text/x-python",
   "name": "python",
   "nbconvert_exporter": "python",
   "pygments_lexer": "ipython3",
   "version": "3.9.7"
  }
 },
 "nbformat": 4,
 "nbformat_minor": 5
}
