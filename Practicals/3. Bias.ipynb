{
 "cells": [
  {
   "cell_type": "markdown",
   "id": "5903cd95",
   "metadata": {},
   "source": [
    "# Bias\n",
    "\n",
    "---"
   ]
  },
  {
   "cell_type": "markdown",
   "id": "3722897e",
   "metadata": {},
   "source": [
    "\n",
    "### Exercise 1\n",
    "\n",
    "**Give three real-world examples of different types of cognitive bias.**"
   ]
  },
  {
   "cell_type": "markdown",
   "id": "f1c4457a",
   "metadata": {},
   "source": [
    "<br/>\n",
    "\n",
    "**1. Self Serving Bias**\n",
    "\n",
    "Self-serving cognitive bias is the propensity to attribute positive outcomes to skill and negative outcomes to bad luck. In other words, we attribute the cause of something to whatever is in our own best interest. Many of us can recall times that we’ve done something and decided that if everything is going to plan, it’s due to skill, and if things go the other way, then it’s just bad luck. We rely on this bias as a way of protecting and boosting our own self-esteem. Our minds don’t want to take responsibility for negative or failed outcomes in fear of hurting our confidence.\n",
    "\n",
    "attributes of self serving bias:\n",
    "- Over-inflated ego\n",
    "- Obsession with praise or approval\n",
    "- Taking credit for team efforts\n",
    "- Lack of accountability\n",
    "- Tendency to blame others\n",
    "- Inability to take criticism\n",
    "- Settling for comfortable conclusions\n",
    "- inability to recognise failure\n",
    "\n",
    "\n",
    "<br/>\n",
    "\n",
    "**2. Framing Cognitive Bias**\n",
    "\n",
    "Framing or framing effect is when someone makes a decision because of the way information is presented to them, rather than based just on the facts. In other words, if someone sees the same facts presented in a different way, they are likely to come to a different conclusion about the information. Investors may pick investments differently, depending on how the opportunity is presented to them.\n",
    "Organizations take advantage of the framing effect through putting importance on certain information, presenting the information in a certain way, and utilizing specific language that capitalize on cognitive bias. Many different types of organizations implement framing effect through the marketing of their products or services.\n",
    "\n",
    "Some examples of different types of marketing framing effects:\n",
    "\n",
    "- Retailers might alert a potential buyer that they only have a limited number of certain items left ie \"10 left, order now to get yours!\" This is another simple example yet effective strategy that companies will use when trying to sell a product. It utilizes the cognitive bias that people are afraid to miss out and will act to avoid missing something.\n",
    "- Labeling yogurt as 90% fat free as opposed to 10% fat, another marketing strategy to make the yogurt more appealing for customers.\n",
    "- Using a soft and soothing tone of voice compared to a harsh and aggressive tone is an example of auditory framing.\n",
    "- A restaurant takes close-up photos of its meals to make the portions appear larger; an example of visual framing.\n",
    "- Buying a package of ground beef that is labeled as 75% lean but passing on a package labeled as 25% fat.\n",
    "\n",
    "\n",
    "<br/>\n",
    "\n",
    "**3. Confirmation Bias**\n",
    "\n",
    "Confirmation bias is the idea that people seek out information and data that confirms their pre-existing ideas. They tend to ignore contrary information. People display this bias when they interpret ambiguous evidence as supporting their existing attitudes. The effect is strongest for desired outcomes, for emotionally charged issues, and for deeply entrenched beliefs.\n",
    "\n",
    "<br/>\n",
    "There are three different types of Bias confirmation:\n",
    "\n",
    "- Biased search for information <br/>\n",
    "Information sourcing bias is determining how to pursue information based on existing opinions. By seeking out evidence that supports your belief, you can disregard important evidence and have imbalanced test results. A common form of biased data collection is the way you phrase the question.\n",
    "<br/>\n",
    "\n",
    "- Biased interpretation of information <br/>\n",
    "Biased interpretation involves perceiving data unevenly, with the resulting information impacting your analysis. This bias occurs with complex issues, where there are multiple ways you can interpret the information. A common occurrence involves researchers scrutinizing certain data more rigorously than others. Uneven data processing can cause incorrect results.\n",
    "<br/>\n",
    "\n",
    "- Biased memory recall of information <br/>\n",
    "Biased memory is subconsciously recalling information differently based on how it impacts your beliefs. It involves remembering supportive details better than details that are inconsistent with your opinions. This bias type occurs both in memory recall and accuracy. This cognitive bias involves remembering ideas you agree with more clearly and more accurately recalling incidents that agree with your worldview.\n",
    "\n",
    "<br/>\n",
    "\n"
   ]
  },
  {
   "cell_type": "markdown",
   "id": "c457d601",
   "metadata": {},
   "source": [
    "---\n",
    "\n",
    "### Exercise 2\n",
    "\n",
    "**Show that the difference between the standard deviation calculations is greatest for small sample sizes.**\n",
    "<br/>"
   ]
  },
  {
   "cell_type": "code",
   "execution_count": 268,
   "id": "2128a4da",
   "metadata": {},
   "outputs": [],
   "source": [
    "# importing numpy and matplotlib \n",
    "\n",
    "import numpy as np\n",
    "import matplotlib.pyplot as plt"
   ]
  },
  {
   "cell_type": "markdown",
   "id": "c0a87048",
   "metadata": {},
   "source": [
    "<br/>\n",
    "\n",
    "### Small sample size"
   ]
  },
  {
   "cell_type": "code",
   "execution_count": 269,
   "id": "7180716e",
   "metadata": {},
   "outputs": [
    {
     "data": {
      "text/plain": [
       "array([[-1.63898897, -0.75804619, -1.67840924, -0.20445832, -0.60104649],\n",
       "       [ 0.92811105,  1.50660927, -3.7825068 , -0.10472095, -3.54653199],\n",
       "       [-0.68071115,  0.19737153, -0.05061379,  0.88161624, -0.59245168],\n",
       "       ...,\n",
       "       [ 0.32692361,  2.3057491 , -1.03635266,  0.41881815, -0.69712741],\n",
       "       [-2.20489279,  0.0549283 , -2.52920772,  0.94662513, -1.08581981],\n",
       "       [ 0.30291892,  4.01870941, -0.04852184, -2.59055594,  0.56381276]])"
      ]
     },
     "execution_count": 269,
     "metadata": {},
     "output_type": "execute_result"
    }
   ],
   "source": [
    "# Generate a sample of values, as shown in Ians class notes. \n",
    "# Using a smaller sample size - 1000 samples of size 5.\n",
    "\n",
    "x = np.random.normal(0.0, 2.0, (10000, 5))\n",
    "x"
   ]
  },
  {
   "cell_type": "code",
   "execution_count": 270,
   "id": "5022dd33",
   "metadata": {},
   "outputs": [
    {
     "data": {
      "text/plain": [
       "array([0.58588454, 2.23738222, 0.56941142, ..., 1.16716319, 1.31857748,\n",
       "       2.1101552 ])"
      ]
     },
     "execution_count": 270,
     "metadata": {},
     "output_type": "execute_result"
    }
   ],
   "source": [
    "# Calculate standard deviation\n",
    "stdevsx = x.std(axis=1)\n",
    "stdevsx"
   ]
  },
  {
   "cell_type": "code",
   "execution_count": 271,
   "id": "76d14f39",
   "metadata": {},
   "outputs": [
    {
     "data": {
      "text/plain": [
       "0.0028910012591053785"
      ]
     },
     "execution_count": 271,
     "metadata": {},
     "output_type": "execute_result"
    }
   ],
   "source": [
    "np.mean(x)"
   ]
  },
  {
   "cell_type": "code",
   "execution_count": 272,
   "id": "5130619f",
   "metadata": {},
   "outputs": [
    {
     "data": {
      "text/plain": [
       "1.989342467629482"
      ]
     },
     "execution_count": 272,
     "metadata": {},
     "output_type": "execute_result"
    }
   ],
   "source": [
    "np.std(x)"
   ]
  },
  {
   "cell_type": "code",
   "execution_count": 273,
   "id": "596a4ebe",
   "metadata": {},
   "outputs": [
    {
     "data": {
      "image/png": "[encoded data removed]",
      "text/plain": [
       "<Figure size 864x432 with 1 Axes>"
      ]
     },
     "metadata": {
      "needs_background": "light"
     },
     "output_type": "display_data"
    }
   ],
   "source": [
    "# View a histogram \n",
    "fig, ax = plt.subplots(figsize=(12, 6))\n",
    "\n",
    "# Plot histogram.\n",
    "plt.hist(stdevsx, bins=10)\n",
    "\n",
    "# Draw a vertical line where the actual standard deviation is.\n",
    "plt.axvline(x=2.0, color='red');"
   ]
  },
  {
   "cell_type": "markdown",
   "id": "4a8dbff8",
   "metadata": {},
   "source": [
    "It seems clear in the above histogram that the tip of the curve is below the actual value.\n",
    "\n",
    "As Ian suggested, this issue is apparent when we repeatedly draw samples from a population, when we use the above calculation on each sample, we will systematically under-estimate the standard deviation, which can be clearly shown in the above histogram. Where the biased estimator for the standard deviation is below the actual standard deviation line. "
   ]
  },
  {
   "cell_type": "markdown",
   "id": "f85a906a",
   "metadata": {},
   "source": [
    "<br/>\n",
    "\n",
    "### Large sample size"
   ]
  },
  {
   "cell_type": "code",
   "execution_count": 274,
   "id": "c2fb5761",
   "metadata": {},
   "outputs": [
    {
     "data": {
      "text/plain": [
       "array([[-2.84264507e+00,  5.53563295e-01, -1.28256045e+00, ...,\n",
       "         2.54575384e+00, -5.73037132e-01, -3.62809362e+00],\n",
       "       [ 1.72046098e+00, -1.48631185e-01,  1.67866156e+00, ...,\n",
       "        -3.26107739e-01,  4.64615053e+00, -2.95219458e-01],\n",
       "       [-3.24920940e+00,  4.53778479e-01,  1.59536362e+00, ...,\n",
       "        -2.53077163e+00, -7.90989282e-01, -7.61383588e-01],\n",
       "       ...,\n",
       "       [ 2.89181948e-01, -1.73832652e+00,  3.15862102e+00, ...,\n",
       "         4.70778783e-01, -1.87700855e+00, -6.24060543e-01],\n",
       "       [ 1.57424379e+00, -1.63687681e+00,  3.91098330e+00, ...,\n",
       "         3.51813411e+00,  1.19855510e+00, -5.92735099e-01],\n",
       "       [-1.33842134e+00,  1.39976017e+00, -1.07372086e+00, ...,\n",
       "         3.16649954e-04, -5.01352491e+00,  1.89105947e+00]])"
      ]
     },
     "execution_count": 274,
     "metadata": {},
     "output_type": "execute_result"
    }
   ],
   "source": [
    "# Create a larger sample size, 1000000 samples of size 20\n",
    "y = np.random.normal(0.0, 2.0, (10000, 20))\n",
    "y"
   ]
  },
  {
   "cell_type": "code",
   "execution_count": 275,
   "id": "a0d7fda8",
   "metadata": {
    "scrolled": true
   },
   "outputs": [
    {
     "data": {
      "text/plain": [
       "array([1.81496285, 1.74513607, 1.86389445, ..., 1.72379465, 2.02011281,\n",
       "       2.30783867])"
      ]
     },
     "execution_count": 275,
     "metadata": {},
     "output_type": "execute_result"
    }
   ],
   "source": [
    "# Calculate standard deviation without correction.\n",
    "stdevsy = y.std(axis=1)\n",
    "stdevsy"
   ]
  },
  {
   "cell_type": "code",
   "execution_count": 276,
   "id": "a4653294",
   "metadata": {},
   "outputs": [
    {
     "data": {
      "text/plain": [
       "0.0007733923150612307"
      ]
     },
     "execution_count": 276,
     "metadata": {},
     "output_type": "execute_result"
    }
   ],
   "source": [
    "np.mean(y)"
   ]
  },
  {
   "cell_type": "code",
   "execution_count": 277,
   "id": "4d9ae5f6",
   "metadata": {},
   "outputs": [
    {
     "data": {
      "text/plain": [
       "1.99658600186169"
      ]
     },
     "execution_count": 277,
     "metadata": {},
     "output_type": "execute_result"
    }
   ],
   "source": [
    "np.std(y)"
   ]
  },
  {
   "cell_type": "code",
   "execution_count": 278,
   "id": "ea66fc35",
   "metadata": {},
   "outputs": [
    {
     "data": {
      "image/png": "[encoded data removed]",
      "text/plain": [
       "<Figure size 864x432 with 1 Axes>"
      ]
     },
     "metadata": {
      "needs_background": "light"
     },
     "output_type": "display_data"
    }
   ],
   "source": [
    "# View a histogram - hopefully we can see the estimate is too small.\n",
    "fig, ax = plt.subplots(figsize=(12, 6))\n",
    "\n",
    "# Plot histogram.\n",
    "plt.hist(stdevsy, bins=10)\n",
    "\n",
    "# Draw a vertical line where the actual standard deviation is.\n",
    "plt.axvline(x=2.0, color='red');"
   ]
  },
  {
   "cell_type": "markdown",
   "id": "7461e5cb",
   "metadata": {},
   "source": [
    "With a larger sample size the tip of the curve is equal to or just below the actual value."
   ]
  },
  {
   "attachments": {
    "bessel.jpg": {
     "image/jpeg": "[encoded data removed]"
    }
   },
   "cell_type": "markdown",
   "id": "5dcd01d0",
   "metadata": {},
   "source": [
    "<br/>\n",
    "\n",
    "### Bessel's correction\n",
    "\n",
    "Bessel's correction actually applies to the variance. The variance of a sample is the square of the standard deviation. It is what we get is we do not apply the np.sqrt function in the standard deviation calculation. <br/>\n",
    "The correction is to mutliply the calculation by:\n",
    "\n",
    "![bessel.jpg](attachment:bessel.jpg)\n",
    "\n",
    "We will then apply Bessel's correction to the standard deviation of the small and large sample sizes."
   ]
  },
  {
   "cell_type": "code",
   "execution_count": 279,
   "id": "edb2bdfb",
   "metadata": {},
   "outputs": [
    {
     "data": {
      "text/plain": [
       "0.3692714885987799"
      ]
     },
     "execution_count": 279,
     "metadata": {},
     "output_type": "execute_result"
    }
   ],
   "source": [
    "# Correction of small sample size\n",
    "\n",
    "np.mean(np.square(stdevsx - np.mean(stdevsx))) * (len(stdevsx) / (len(stdevsx) - 1.0))"
   ]
  },
  {
   "cell_type": "code",
   "execution_count": 280,
   "id": "f5149b85",
   "metadata": {},
   "outputs": [
    {
     "data": {
      "text/plain": [
       "0.09593763539178526"
      ]
     },
     "execution_count": 280,
     "metadata": {},
     "output_type": "execute_result"
    }
   ],
   "source": [
    "# Correction of large sample size\n",
    "\n",
    "np.mean(np.square(stdevsy - np.mean(stdevsy))) * (len(stdevsy) / (len(stdevsy) - 1.0))"
   ]
  },
  {
   "cell_type": "markdown",
   "id": "04c4d46d",
   "metadata": {},
   "source": [
    "<br/>\n",
    "\n",
    "### Results\n",
    "\n",
    "We can see from the bessel's correction results above, the difference is greatest for small sample sizes.\n",
    "<br/>"
   ]
  },
  {
   "cell_type": "markdown",
   "id": "68934da4",
   "metadata": {},
   "source": [
    "---\n",
    "\n",
    "## References\n",
    "\n",
    "[1] https://corporatefinanceinstitute.com/resources/wealth-management/list-top-10-types-cognitive-bias/\n",
    "<br/>\n",
    "\n",
    "[2] https://www.projectmanager.com/blog/self-serving-bias-workplace\n",
    "<br/>\n",
    "\n",
    "[3]https://en.wikipedia.org/wiki/Framing_effect_(psychology)#:~:text=Framing%20effect%20%28psychology%29%20The%20framing%20effect%20is%20a,seek%20risks%20when%20a%20negative%20frame%20is%20presented.\n",
    "<br/>\n",
    "\n",
    "[4] https://study.com/academy/lesson/framing-effect-definition-examples.html#:~:text=The%20framing%20effect%20in%20marketing%20can\n",
    "<br/>\n",
    "\n",
    "[5] https://helpfulprofessor.com/framing-bias-examples/\n",
    "<br/>\n",
    "\n",
    "[6] https://www.simplypsychology.org/self-serving-bias.html\n",
    "<br/>\n",
    "\n",
    "[7] https://www.simplypsychology.org/confirmation-bias.html\n",
    "<br/>\n",
    "\n",
    "[8] https://ca.indeed.com/career-advice/career-development/what-is-confirmation-bias#:~:text=The%20three%20types%20of%20confirmation%20bias%20include%3A%201,impacting%20your%20analysis.%20...%203%203.%20Memory%20bias\n",
    "<br/>\n",
    "\n",
    "[9] https://github.com/ianmcloughlin/2223-S1-fund-data-analysis/blob/main/notebooks/03-bias.ipynb\n",
    "<br/>\n",
    "\n",
    "[10] https://www.geeksforgeeks.org/bessels-correction/\n",
    "<br/>\n",
    "\n",
    "[11] https://en.wikipedia.org/wiki/Bessel%27s_correction\n",
    "<br/>"
   ]
  },
  {
   "cell_type": "code",
   "execution_count": null,
   "id": "a4c0be0e",
   "metadata": {},
   "outputs": [],
   "source": []
  }
 ],
 "metadata": {
  "kernelspec": {
   "display_name": "Python 3 (ipykernel)",
   "language": "python",
   "name": "python3"
  },
  "language_info": {
   "codemirror_mode": {
    "name": "ipython",
    "version": 3
   },
   "file_extension": ".py",
   "mimetype": "text/x-python",
   "name": "python",
   "nbconvert_exporter": "python",
   "pygments_lexer": "ipython3",
   "version": "3.9.7"
  }
 },
 "nbformat": 4,
 "nbformat_minor": 5
}
