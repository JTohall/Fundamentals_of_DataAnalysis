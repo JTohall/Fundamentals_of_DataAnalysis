{
 "cells": [
  {
   "cell_type": "markdown",
   "id": "15016294",
   "metadata": {},
   "source": [
    "# Randomness\n",
    "\n",
    "<br/>\n",
    "\n",
    "## Simulating a coin flip\n",
    "\n",
    "---\n",
    "\n",
    "<br/>"
   ]
  },
  {
   "cell_type": "markdown",
   "id": "8e90a889",
   "metadata": {},
   "source": [
    "## Exercise 1\n",
    "\n",
    "**It is somewhat interesting that (5 * 4 * 3 * 2 * 1) perfectly divides (10 * 9 * 8 * 7 * 6) - there's no remainder.**\n",
    "\n",
    "**If we only wanted exactly four heads as opposed to five, the equivalent calculation would be (10 * 9 * 8 * 7) / (4 * 3 * 2 * 1).**\n",
    "\n",
    "**Does that evenly divide too? What is the formula in general?**\n",
    "\n",
    "**Does it always come out as a positive whole number?**\n",
    "\n",
    "<br/>"
   ]
  },
  {
   "cell_type": "code",
   "execution_count": 24,
   "id": "bbf285e7",
   "metadata": {},
   "outputs": [
    {
     "data": {
      "text/plain": [
       "0"
      ]
     },
     "execution_count": 24,
     "metadata": {},
     "output_type": "execute_result"
    }
   ],
   "source": [
    "# Firsty I'll check that the above numbers can be perfectly divided without any remainder\n",
    "\n",
    "(5 * 4 * 3 * 2 * 1)//(10 * 9 * 8 * 7 * 6)\n",
    "\n",
    "# Output of 0 "
   ]
  },
  {
   "cell_type": "code",
   "execution_count": 25,
   "id": "547e14fc",
   "metadata": {},
   "outputs": [
    {
     "data": {
      "text/plain": [
       "210"
      ]
     },
     "execution_count": 25,
     "metadata": {},
     "output_type": "execute_result"
    }
   ],
   "source": [
    "# Calculation for wanting four heads as opposed to five. \n",
    "\n",
    "(10 * 9 * 8 * 7) // (4 * 3 * 2 * 1)\n",
    "\n",
    "# Output of 210"
   ]
  },
  {
   "cell_type": "code",
   "execution_count": 26,
   "id": "ff4e468c",
   "metadata": {},
   "outputs": [
    {
     "data": {
      "text/plain": [
       "120"
      ]
     },
     "execution_count": 26,
     "metadata": {},
     "output_type": "execute_result"
    }
   ],
   "source": [
    "# So the following formulka would be for three coin flips and so on. Always outputting a whole number.\n",
    "(10 * 9 * 8) // (3 * 2 * 1)"
   ]
  },
  {
   "cell_type": "markdown",
   "id": "56d55905",
   "metadata": {},
   "source": [
    "A positive integer is always returned"
   ]
  },
  {
   "cell_type": "markdown",
   "id": "c1d7199c",
   "metadata": {},
   "source": [
    "---\n",
    "\n",
    "## Exercise 2\n",
    "\n",
    "**Note that there are the same number of ways to get 4 tails as there to get 4 heads. Explain why this is.**\n",
    "\n",
    "<br/>"
   ]
  },
  {
   "cell_type": "markdown",
   "id": "9f5e7eb8",
   "metadata": {},
   "source": [
    "This is a binomial distribution (Bernoulli trials) with n = 6; the # of ways that 4 tails may occur in 6 flips of coin is 6C4 = 15.\n",
    "\n",
    "The process has a Binomial distribution with n = 8,and p = q = 1/2.\n",
    "\n",
    "The PMF is  P(X=k)=(nk)pk(1−p)n−k \n",
    "\n",
    "So for p = 1/2,k =4,n = 8,the probability is :\n",
    "\n",
    "P(X=4)=(84)(12)4(12)4=70256=35128"
   ]
  },
  {
   "attachments": {
    "image.png": {
     "image/png": "[encoded data removed]"
    }
   },
   "cell_type": "markdown",
   "id": "3515743b",
   "metadata": {},
   "source": [
    "<br/>\n",
    "\n",
    "**Bernoulli Trials**\n",
    "\n",
    "Consider the simple experiment where a fair coin is tossed four times. Find the probability that exactly two of the tosses \n",
    "result in heads.\n",
    "\n",
    "**Solution**\n",
    "\n",
    "For this experiment, let a heads be defined as a success and a tails as a failure. Because the coin is assumed to be fair, the probability of success is *p = 1/2*. Thus the probability of failure, *q*, is given by:\n",
    "\n",
    "*q = 1 - p = 1 - 1/2 = 1/2*\n",
    "\n",
    "Using the equation above, the probability of exactly two tosses out of four total tosses resulting in a heads is given by:\n",
    "\n",
    "\n",
    "![image.png](attachment:image.png)\n"
   ]
  },
  {
   "cell_type": "code",
   "execution_count": 27,
   "id": "c618324a",
   "metadata": {},
   "outputs": [
    {
     "name": "stdout",
     "output_type": "stream",
     "text": [
      "0    1\n",
      "1    0\n",
      "2    1\n",
      "3    0\n",
      "4    0\n",
      "5    0\n",
      "6    0\n",
      "7    0\n",
      "dtype: int32\n"
     ]
    }
   ],
   "source": [
    "# Playing with a coin flip simulator.\n",
    "\n",
    "# Importing pandas and numpy\n",
    "import pandas as pd\n",
    "import numpy as np\n",
    "\n",
    "coin_flip_series = pd.Series(np.random.randint(2, size=8)) #2 outcomes, 8 flips. \n",
    "\n",
    "print(coin_flip_series)\n",
    "\n",
    "# Will print number of flips from 0-7 and outcome of 0 or 1. Funnily enough the first time I ran this code I got an equal \n",
    "# amount of 0's and 1's!"
   ]
  },
  {
   "cell_type": "markdown",
   "id": "9a43ac87",
   "metadata": {},
   "source": [
    "---\n",
    "\n",
    "## Exercise 3\n",
    "\n",
    "**Plot bar charts or histograms of any three different distributions listed at the following link:**\n",
    "\n",
    "https://numpy.org/doc/stable/reference/random/generator.html#distributions\n",
    "\n",
    "<br/>"
   ]
  },
  {
   "cell_type": "markdown",
   "id": "ff4dd481",
   "metadata": {},
   "source": [
    "**1. Histogram for Binomial distribution**\n",
    "\n",
    "One way to illustrate the binomial distribution is with a histogram. A histogram shows the possible values of a probability distribution as a series of vertical bars. The height of each bar reflects the probability of each value occurring. A histogram is a useful tool for visually analyzing the properties of a distribution, and all discrete distributions may be represented with a histogram.\n"
   ]
  },
  {
   "cell_type": "code",
   "execution_count": 32,
   "id": "b83ddec3",
   "metadata": {},
   "outputs": [],
   "source": [
    "# Importing the relevant functions to create histograms and bar charts\n",
    "\n",
    "import numpy as np\n",
    "import matplotlib.pyplot as plt  \n",
    "\n"
   ]
  },
  {
   "cell_type": "markdown",
   "id": "4fa7c95f",
   "metadata": {},
   "source": [
    "**2. Multinomial Distribution**"
   ]
  },
  {
   "cell_type": "code",
   "execution_count": null,
   "id": "b3309338",
   "metadata": {},
   "outputs": [],
   "source": []
  },
  {
   "cell_type": "markdown",
   "id": "ed5dfb4d",
   "metadata": {},
   "source": [
    "**3. Normal Distribution**"
   ]
  },
  {
   "cell_type": "code",
   "execution_count": null,
   "id": "3f5a4f1a",
   "metadata": {},
   "outputs": [],
   "source": [
    "numpy.random.normal(loc=0.0, scale=1.0, size=None)"
   ]
  },
  {
   "cell_type": "markdown",
   "id": "fdee2f98",
   "metadata": {},
   "source": [
    "---\n",
    "\n",
    "\n",
    "## References\n",
    "\n",
    "[1] https://short-fact.com/how-many-outcomes-are-there-if-you-flip-4-coins/\n",
    "<br/>\n",
    "\n",
    "[2] https://theprogrammingexpert.com/python-coin-flip/\n",
    "<br/>\n",
    "\n",
    "[3] https://qr.ae/prvxZB\n",
    "<br/>\n",
    "\n",
    "[4] https://www.omnicalculator.com/statistics/coin-flip-probability\n",
    "<br/>\n",
    "\n",
    "[5] https://stackoverflow.com/questions/49769990/r-binomial-distribution-barplot\n",
    "<br/>\n",
    "\n",
    "[6] https://www.dummies.com/article/business-careers-money/business/accounting/calculation-analysis/how-to-graph-the-binomial-distribution-145938/\n",
    "<br/>\n",
    "\n",
    "[7] https://www.statology.org/generate-normal-distribution-python/\n",
    "br/>\n",
    "\n",
    "[8]\n",
    "<br/>"
   ]
  },
  {
   "cell_type": "code",
   "execution_count": null,
   "id": "d6858c34",
   "metadata": {},
   "outputs": [],
   "source": []
  }
 ],
 "metadata": {
  "kernelspec": {
   "display_name": "Python 3 (ipykernel)",
   "language": "python",
   "name": "python3"
  },
  "language_info": {
   "codemirror_mode": {
    "name": "ipython",
    "version": 3
   },
   "file_extension": ".py",
   "mimetype": "text/x-python",
   "name": "python",
   "nbconvert_exporter": "python",
   "pygments_lexer": "ipython3",
   "version": "3.9.7"
  }
 },
 "nbformat": 4,
 "nbformat_minor": 5
}
