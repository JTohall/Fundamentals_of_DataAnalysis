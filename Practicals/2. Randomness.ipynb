{
 "cells": [
  {
   "cell_type": "markdown",
   "id": "15016294",
   "metadata": {},
   "source": [
    "# Randomness\n",
    "\n",
    "<br/>\n",
    "\n",
    "## Simulating a coin flip\n",
    "\n",
    "---\n",
    "\n",
    "<br/>"
   ]
  },
  {
   "cell_type": "markdown",
   "id": "8e90a889",
   "metadata": {},
   "source": [
    "## Exercise 1\n",
    "\n",
    "**It is somewhat interesting that (5 * 4 * 3 * 2 * 1) perfectly divides (10 * 9 * 8 * 7 * 6) - there's no remainder.**\n",
    "\n",
    "**If we only wanted exactly four heads as opposed to five, the equivalent calculation would be (10 * 9 * 8 * 7) / (4 * 3 * 2 * 1).**\n",
    "\n",
    "**Does that evenly divide too? What is the formula in general?**\n",
    "\n",
    "**Does it always come out as a positive whole number?**\n",
    "\n",
    "<br/>"
   ]
  },
  {
   "cell_type": "code",
   "execution_count": 15,
   "id": "bbf285e7",
   "metadata": {},
   "outputs": [
    {
     "data": {
      "text/plain": [
       "0"
      ]
     },
     "execution_count": 15,
     "metadata": {},
     "output_type": "execute_result"
    }
   ],
   "source": [
    "# Firsty I'll check that the above numbers can be perfectly divided without any remainder\n",
    "\n",
    "(5 * 4 * 3 * 2 * 1)//(10 * 9 * 8 * 7 * 6)\n",
    "\n",
    "# Output of 0 "
   ]
  },
  {
   "cell_type": "code",
   "execution_count": 16,
   "id": "547e14fc",
   "metadata": {},
   "outputs": [
    {
     "data": {
      "text/plain": [
       "210"
      ]
     },
     "execution_count": 16,
     "metadata": {},
     "output_type": "execute_result"
    }
   ],
   "source": [
    "# Calculation for wanting four heads as opposed to five. \n",
    "\n",
    "(10 * 9 * 8 * 7) // (4 * 3 * 2 * 1)\n",
    "\n",
    "# Output of 210"
   ]
  },
  {
   "cell_type": "code",
   "execution_count": 17,
   "id": "ff4e468c",
   "metadata": {},
   "outputs": [
    {
     "data": {
      "text/plain": [
       "120"
      ]
     },
     "execution_count": 17,
     "metadata": {},
     "output_type": "execute_result"
    }
   ],
   "source": [
    "# So the following formulka would be for three coin flips and so on. Always outputting a whole number.\n",
    "(10 * 9 * 8) // (3 * 2 * 1)"
   ]
  },
  {
   "cell_type": "markdown",
   "id": "56d55905",
   "metadata": {},
   "source": [
    "A positive integer is always returned"
   ]
  },
  {
   "cell_type": "markdown",
   "id": "c1d7199c",
   "metadata": {},
   "source": [
    "---\n",
    "\n",
    "## Exercise 2\n",
    "\n",
    "**Note that there are the same number of ways to get 4 tails as there to get 4 heads. Explain why this is.**\n",
    "\n",
    "<br/>"
   ]
  },
  {
   "cell_type": "markdown",
   "id": "9f5e7eb8",
   "metadata": {},
   "source": [
    "This is a binomial distribution (Bernoulli trials) with n = 6; the # of ways that 4 tails may occur in 6 flips of coin is 6C4 = 15.\n",
    "\n",
    "The process has a Binomial distribution with n = 8,and p = q = 1/2.\n",
    "\n",
    "The PMF is  P(X=k)=(nk)pk(1−p)n−k \n",
    "\n",
    "So for p = 1/2,k =4,n = 8,the probability is :\n",
    "\n",
    "P(X=4)=(84)(12)4(12)4=70256=35128"
   ]
  },
  {
   "attachments": {
    "image.png": {
     "image/png": "[encoded data removed]"
    }
   },
   "cell_type": "markdown",
   "id": "3515743b",
   "metadata": {},
   "source": [
    "<br/>\n",
    "\n",
    "**Bernoulli Trials**\n",
    "\n",
    "Consider the simple experiment where a fair coin is tossed four times. Find the probability that exactly two of the tosses \n",
    "result in heads.\n",
    "\n",
    "**Solution**\n",
    "\n",
    "For this experiment, let a heads be defined as a success and a tails as a failure. Because the coin is assumed to be fair, the probability of success is *p = 1/2*. Thus the probability of failure, *q*, is given by:\n",
    "\n",
    "*q = 1 - p = 1 - 1/2 = 1/2*\n",
    "\n",
    "Using the equation above, the probability of exactly two tosses out of four total tosses resulting in a heads is given by:\n",
    "\n",
    "\n",
    "![image.png](attachment:image.png)\n"
   ]
  },
  {
   "cell_type": "code",
   "execution_count": 18,
   "id": "c618324a",
   "metadata": {},
   "outputs": [
    {
     "name": "stdout",
     "output_type": "stream",
     "text": [
      "0    0\n",
      "1    1\n",
      "2    0\n",
      "3    0\n",
      "4    0\n",
      "5    0\n",
      "6    0\n",
      "7    0\n",
      "dtype: int32\n"
     ]
    }
   ],
   "source": [
    "# Playing with a coin flip simulator.\n",
    "\n",
    "# Importing pandas and numpy\n",
    "import pandas as pd\n",
    "import numpy as np\n",
    "\n",
    "coin_flip_series = pd.Series(np.random.randint(2, size=8)) #2 outcomes, 8 flips. \n",
    "\n",
    "print(coin_flip_series)\n",
    "\n",
    "# Will print number of flips from 0-7 and outcome of 0 or 1. Funnily enough the first time I ran this code I got an equal \n",
    "# amount of 0's and 1's!"
   ]
  },
  {
   "cell_type": "markdown",
   "id": "9a43ac87",
   "metadata": {},
   "source": [
    "---\n",
    "\n",
    "## Exercise 3\n",
    "\n",
    "**Plot bar charts or histograms of any three different distributions listed at the following link:**\n",
    "\n",
    "https://numpy.org/doc/stable/reference/random/generator.html#distributions\n",
    "\n",
    "<br/>"
   ]
  },
  {
   "cell_type": "markdown",
   "id": "ff4dd481",
   "metadata": {},
   "source": [
    "**1. Histogram for Binomial distribution**\n",
    "\n",
    "One way to illustrate the binomial distribution is with a histogram. A histogram shows the possible values of a probability distribution as a series of vertical bars. The height of each bar reflects the probability of each value occurring. A histogram is a useful tool for visually analyzing the properties of a distribution, and all discrete distributions may be represented with a histogram.\n"
   ]
  },
  {
   "cell_type": "code",
   "execution_count": 43,
   "id": "b83ddec3",
   "metadata": {},
   "outputs": [
    {
     "data": {
      "text/plain": [
       "(array([1.000e+00, 0.000e+00, 0.000e+00, 0.000e+00, 0.000e+00, 0.000e+00,\n",
       "        1.000e+00, 0.000e+00, 0.000e+00, 0.000e+00, 0.000e+00, 1.000e+00,\n",
       "        0.000e+00, 0.000e+00, 0.000e+00, 2.000e+00, 1.000e+00, 4.000e+00,\n",
       "        4.000e+00, 6.000e+00, 6.000e+00, 1.000e+01, 1.900e+01, 2.300e+01,\n",
       "        0.000e+00, 2.500e+01, 4.200e+01, 5.300e+01, 7.000e+01, 8.900e+01,\n",
       "        1.170e+02, 1.540e+02, 2.030e+02, 2.400e+02, 3.070e+02, 3.880e+02,\n",
       "        4.550e+02, 0.000e+00, 5.970e+02, 7.110e+02, 8.240e+02, 9.810e+02,\n",
       "        1.209e+03, 1.415e+03, 1.572e+03, 1.860e+03, 2.080e+03, 2.339e+03,\n",
       "        2.627e+03, 0.000e+00, 2.920e+03, 3.090e+03, 3.478e+03, 3.605e+03,\n",
       "        3.810e+03, 3.997e+03, 4.095e+03, 3.993e+03, 4.125e+03, 4.257e+03,\n",
       "        4.172e+03, 4.152e+03, 0.000e+00, 3.895e+03, 3.664e+03, 3.489e+03,\n",
       "        3.292e+03, 3.027e+03, 2.672e+03, 2.499e+03, 2.166e+03, 1.937e+03,\n",
       "        1.663e+03, 1.429e+03, 0.000e+00, 1.225e+03, 1.089e+03, 8.470e+02,\n",
       "        6.790e+02, 5.270e+02, 4.470e+02, 3.370e+02, 2.610e+02, 2.030e+02,\n",
       "        1.430e+02, 1.190e+02, 7.400e+01, 0.000e+00, 6.300e+01, 3.700e+01,\n",
       "        2.600e+01, 1.900e+01, 1.200e+01, 1.100e+01, 5.000e+00, 3.000e+00,\n",
       "        3.000e+00, 0.000e+00, 2.000e+00, 5.000e+00]),\n",
       " array([846.  , 846.92, 847.84, 848.76, 849.68, 850.6 , 851.52, 852.44,\n",
       "        853.36, 854.28, 855.2 , 856.12, 857.04, 857.96, 858.88, 859.8 ,\n",
       "        860.72, 861.64, 862.56, 863.48, 864.4 , 865.32, 866.24, 867.16,\n",
       "        868.08, 869.  , 869.92, 870.84, 871.76, 872.68, 873.6 , 874.52,\n",
       "        875.44, 876.36, 877.28, 878.2 , 879.12, 880.04, 880.96, 881.88,\n",
       "        882.8 , 883.72, 884.64, 885.56, 886.48, 887.4 , 888.32, 889.24,\n",
       "        890.16, 891.08, 892.  , 892.92, 893.84, 894.76, 895.68, 896.6 ,\n",
       "        897.52, 898.44, 899.36, 900.28, 901.2 , 902.12, 903.04, 903.96,\n",
       "        904.88, 905.8 , 906.72, 907.64, 908.56, 909.48, 910.4 , 911.32,\n",
       "        912.24, 913.16, 914.08, 915.  , 915.92, 916.84, 917.76, 918.68,\n",
       "        919.6 , 920.52, 921.44, 922.36, 923.28, 924.2 , 925.12, 926.04,\n",
       "        926.96, 927.88, 928.8 , 929.72, 930.64, 931.56, 932.48, 933.4 ,\n",
       "        934.32, 935.24, 936.16, 937.08, 938.  ]),\n",
       " <BarContainer object of 100 artists>)"
      ]
     },
     "execution_count": 43,
     "metadata": {},
     "output_type": "execute_result"
    },
    {
     "data": {
      "image/png": "[encoded data removed]",
      "text/plain": [
       "<Figure size 432x288 with 1 Axes>"
      ]
     },
     "metadata": {
      "needs_background": "light"
     },
     "output_type": "display_data"
    }
   ],
   "source": [
    "# Importing the relevant functions to create histograms and bar charts\n",
    "\n",
    "import numpy as np\n",
    "import matplotlib.pyplot as plt  \n",
    "\n",
    "# Create new, seeded random number generator.\n",
    "rng = np.random.default_rng(0)\n",
    "\n",
    "# Generate 1000 numbers on a standard normal distribution.\n",
    "samples = rng.binomial(1000, 0.9, 100000)\n",
    "\n",
    "# Create a figure.\n",
    "fig, ax = plt.subplots()\n",
    "\n",
    "# Create histogram.\n",
    "ax.hist(samples, bins=100)"
   ]
  },
  {
   "cell_type": "markdown",
   "id": "4fa7c95f",
   "metadata": {},
   "source": [
    "**2. Multinomial Distribution**"
   ]
  },
  {
   "cell_type": "code",
   "execution_count": 64,
   "id": "b3309338",
   "metadata": {},
   "outputs": [
    {
     "data": {
      "text/plain": [
       "(array([[3.000e+00, 2.600e+01, 1.100e+02, 3.050e+02, 5.880e+02, 1.130e+03,\n",
       "         1.736e+03, 2.405e+03, 3.226e+03, 4.242e+03, 4.963e+03, 5.529e+03,\n",
       "         6.011e+03, 6.151e+03, 6.660e+03, 6.451e+03, 6.116e+03, 5.933e+03,\n",
       "         5.564e+03, 4.941e+03, 4.578e+03, 3.977e+03, 3.456e+03, 3.008e+03,\n",
       "         2.545e+03, 2.126e+03, 1.757e+03, 1.390e+03, 1.084e+03, 9.400e+02,\n",
       "         7.420e+02, 5.480e+02, 4.370e+02, 3.350e+02, 2.690e+02, 2.080e+02,\n",
       "         1.370e+02, 1.070e+02, 8.100e+01, 5.500e+01, 3.900e+01, 2.900e+01,\n",
       "         2.000e+01, 1.100e+01, 1.100e+01, 8.000e+00, 3.000e+00, 3.000e+00,\n",
       "         3.000e+00, 1.000e+00, 1.000e+00, 1.000e+00, 0.000e+00, 0.000e+00,\n",
       "         0.000e+00, 0.000e+00, 0.000e+00, 0.000e+00, 0.000e+00, 0.000e+00,\n",
       "         0.000e+00, 0.000e+00, 0.000e+00, 0.000e+00, 0.000e+00, 0.000e+00,\n",
       "         0.000e+00, 0.000e+00, 0.000e+00, 0.000e+00, 0.000e+00, 0.000e+00,\n",
       "         0.000e+00, 0.000e+00, 0.000e+00, 0.000e+00, 0.000e+00, 0.000e+00,\n",
       "         0.000e+00, 0.000e+00, 0.000e+00, 0.000e+00, 0.000e+00, 0.000e+00,\n",
       "         0.000e+00, 0.000e+00, 0.000e+00, 0.000e+00, 0.000e+00, 0.000e+00,\n",
       "         0.000e+00, 0.000e+00, 0.000e+00, 0.000e+00, 0.000e+00, 0.000e+00,\n",
       "         0.000e+00, 0.000e+00, 0.000e+00, 0.000e+00],\n",
       "        [0.000e+00, 0.000e+00, 0.000e+00, 0.000e+00, 0.000e+00, 0.000e+00,\n",
       "         0.000e+00, 0.000e+00, 0.000e+00, 0.000e+00, 1.000e+00, 1.000e+00,\n",
       "         4.000e+00, 4.000e+00, 1.500e+01, 2.600e+01, 3.800e+01, 6.400e+01,\n",
       "         1.200e+02, 1.570e+02, 2.220e+02, 3.230e+02, 4.840e+02, 6.350e+02,\n",
       "         8.280e+02, 1.125e+03, 1.360e+03, 1.640e+03, 1.937e+03, 2.328e+03,\n",
       "         2.667e+03, 3.035e+03, 3.488e+03, 3.649e+03, 4.146e+03, 4.266e+03,\n",
       "         4.443e+03, 4.598e+03, 4.752e+03, 4.729e+03, 4.672e+03, 4.498e+03,\n",
       "         4.370e+03, 4.061e+03, 3.917e+03, 3.566e+03, 3.275e+03, 3.038e+03,\n",
       "         2.760e+03, 2.369e+03, 2.177e+03, 1.853e+03, 1.569e+03, 1.333e+03,\n",
       "         1.099e+03, 9.440e+02, 7.630e+02, 6.020e+02, 4.620e+02, 4.040e+02,\n",
       "         2.970e+02, 2.350e+02, 1.520e+02, 1.420e+02, 9.500e+01, 8.200e+01,\n",
       "         5.800e+01, 4.500e+01, 1.700e+01, 2.600e+01, 1.500e+01, 7.000e+00,\n",
       "         2.000e+00, 4.000e+00, 3.000e+00, 2.000e+00, 0.000e+00, 1.000e+00,\n",
       "         0.000e+00, 0.000e+00, 0.000e+00, 0.000e+00, 0.000e+00, 0.000e+00,\n",
       "         0.000e+00, 0.000e+00, 0.000e+00, 0.000e+00, 0.000e+00, 0.000e+00,\n",
       "         0.000e+00, 0.000e+00, 0.000e+00, 0.000e+00, 0.000e+00, 0.000e+00,\n",
       "         0.000e+00, 0.000e+00, 0.000e+00, 0.000e+00],\n",
       "        [0.000e+00, 0.000e+00, 0.000e+00, 0.000e+00, 0.000e+00, 0.000e+00,\n",
       "         0.000e+00, 0.000e+00, 0.000e+00, 0.000e+00, 0.000e+00, 0.000e+00,\n",
       "         0.000e+00, 0.000e+00, 0.000e+00, 0.000e+00, 0.000e+00, 0.000e+00,\n",
       "         0.000e+00, 0.000e+00, 0.000e+00, 0.000e+00, 0.000e+00, 1.000e+00,\n",
       "         0.000e+00, 0.000e+00, 1.000e+00, 0.000e+00, 0.000e+00, 2.000e+00,\n",
       "         4.000e+00, 0.000e+00, 5.000e+00, 1.200e+01, 2.600e+01, 3.700e+01,\n",
       "         3.300e+01, 6.100e+01, 8.500e+01, 1.220e+02, 1.900e+02, 2.160e+02,\n",
       "         2.590e+02, 3.600e+02, 5.000e+02, 6.040e+02, 7.530e+02, 9.040e+02,\n",
       "         1.092e+03, 1.378e+03, 1.646e+03, 1.819e+03, 2.191e+03, 2.363e+03,\n",
       "         2.703e+03, 3.009e+03, 3.256e+03, 3.573e+03, 3.941e+03, 4.120e+03,\n",
       "         4.200e+03, 4.356e+03, 4.405e+03, 4.455e+03, 4.338e+03, 4.195e+03,\n",
       "         4.234e+03, 3.966e+03, 3.817e+03, 3.476e+03, 3.291e+03, 3.084e+03,\n",
       "         2.677e+03, 2.417e+03, 2.068e+03, 1.804e+03, 1.573e+03, 1.343e+03,\n",
       "         1.105e+03, 9.050e+02, 7.050e+02, 6.080e+02, 4.240e+02, 3.500e+02,\n",
       "         2.750e+02, 2.060e+02, 1.400e+02, 1.110e+02, 7.600e+01, 4.800e+01,\n",
       "         2.600e+01, 2.200e+01, 1.700e+01, 7.000e+00, 3.000e+00, 1.000e+00,\n",
       "         3.000e+00, 2.000e+00, 0.000e+00, 1.000e+00]]),\n",
       " array([0.0118357 , 0.01985974, 0.02788378, 0.03590782, 0.04393187,\n",
       "        0.05195591, 0.05997995, 0.06800399, 0.07602803, 0.08405208,\n",
       "        0.09207612, 0.10010016, 0.1081242 , 0.11614825, 0.12417229,\n",
       "        0.13219633, 0.14022037, 0.14824442, 0.15626846, 0.1642925 ,\n",
       "        0.17231654, 0.18034058, 0.18836463, 0.19638867, 0.20441271,\n",
       "        0.21243675, 0.2204608 , 0.22848484, 0.23650888, 0.24453292,\n",
       "        0.25255696, 0.26058101, 0.26860505, 0.27662909, 0.28465313,\n",
       "        0.29267718, 0.30070122, 0.30872526, 0.3167493 , 0.32477335,\n",
       "        0.33279739, 0.34082143, 0.34884547, 0.35686951, 0.36489356,\n",
       "        0.3729176 , 0.38094164, 0.38896568, 0.39698973, 0.40501377,\n",
       "        0.41303781, 0.42106185, 0.4290859 , 0.43710994, 0.44513398,\n",
       "        0.45315802, 0.46118206, 0.46920611, 0.47723015, 0.48525419,\n",
       "        0.49327823, 0.50130228, 0.50932632, 0.51735036, 0.5253744 ,\n",
       "        0.53339845, 0.54142249, 0.54944653, 0.55747057, 0.56549461,\n",
       "        0.57351866, 0.5815427 , 0.58956674, 0.59759078, 0.60561483,\n",
       "        0.61363887, 0.62166291, 0.62968695, 0.63771099, 0.64573504,\n",
       "        0.65375908, 0.66178312, 0.66980716, 0.67783121, 0.68585525,\n",
       "        0.69387929, 0.70190333, 0.70992738, 0.71795142, 0.72597546,\n",
       "        0.7339995 , 0.74202354, 0.75004759, 0.75807163, 0.76609567,\n",
       "        0.77411971, 0.78214376, 0.7901678 , 0.79819184, 0.80621588,\n",
       "        0.81423993]),\n",
       " <a list of 3 BarContainer objects>)"
      ]
     },
     "execution_count": 64,
     "metadata": {},
     "output_type": "execute_result"
    },
    {
     "data": {
      "image/png": "[encoded data removed]",
      "text/plain": [
       "<Figure size 432x288 with 1 Axes>"
      ]
     },
     "metadata": {
      "needs_background": "light"
     },
     "output_type": "display_data"
    }
   ],
   "source": [
    "rng = np.random.default_rng(0)\n",
    "\n",
    "samples = rng.dirichlet((7, 16, 25), size = 100000)\n",
    "\n",
    "fig, ax = plt.subplots()\n",
    "\n",
    "ax.hist(samples, bins=100)"
   ]
  },
  {
   "cell_type": "markdown",
   "id": "ed5dfb4d",
   "metadata": {},
   "source": [
    "**3. Normal Distribution**"
   ]
  },
  {
   "cell_type": "code",
   "execution_count": 60,
   "id": "3f5a4f1a",
   "metadata": {},
   "outputs": [
    {
     "data": {
      "text/plain": [
       "(array([1.000e+00, 0.000e+00, 0.000e+00, 0.000e+00, 0.000e+00, 3.000e+00,\n",
       "        4.000e+00, 3.000e+00, 4.000e+00, 3.000e+00, 7.000e+00, 8.000e+00,\n",
       "        1.500e+01, 1.900e+01, 3.300e+01, 4.000e+01, 6.200e+01, 5.900e+01,\n",
       "        6.400e+01, 8.900e+01, 1.380e+02, 1.690e+02, 2.070e+02, 2.570e+02,\n",
       "        3.220e+02, 3.200e+02, 4.450e+02, 5.660e+02, 6.530e+02, 7.500e+02,\n",
       "        8.870e+02, 1.013e+03, 1.192e+03, 1.349e+03, 1.568e+03, 1.757e+03,\n",
       "        1.991e+03, 2.113e+03, 2.405e+03, 2.585e+03, 2.705e+03, 2.951e+03,\n",
       "        3.143e+03, 3.343e+03, 3.352e+03, 3.605e+03, 3.574e+03, 3.749e+03,\n",
       "        3.637e+03, 3.591e+03, 3.512e+03, 3.540e+03, 3.415e+03, 3.412e+03,\n",
       "        3.159e+03, 3.101e+03, 2.939e+03, 2.725e+03, 2.439e+03, 2.257e+03,\n",
       "        2.049e+03, 1.761e+03, 1.669e+03, 1.439e+03, 1.265e+03, 1.116e+03,\n",
       "        9.480e+02, 7.500e+02, 7.130e+02, 5.740e+02, 4.900e+02, 3.960e+02,\n",
       "        3.220e+02, 2.590e+02, 2.240e+02, 1.730e+02, 1.430e+02, 9.500e+01,\n",
       "        9.600e+01, 6.700e+01, 5.300e+01, 3.600e+01, 3.900e+01, 1.800e+01,\n",
       "        1.200e+01, 5.000e+00, 6.000e+00, 8.000e+00, 1.200e+01, 2.000e+00,\n",
       "        4.000e+00, 3.000e+00, 1.000e+00, 1.000e+00, 0.000e+00, 0.000e+00,\n",
       "        0.000e+00, 0.000e+00, 0.000e+00, 1.000e+00]),\n",
       " array([-4.49411704, -4.40185629, -4.30959555, -4.2173348 , -4.12507405,\n",
       "        -4.0328133 , -3.94055256, -3.84829181, -3.75603106, -3.66377031,\n",
       "        -3.57150957, -3.47924882, -3.38698807, -3.29472733, -3.20246658,\n",
       "        -3.11020583, -3.01794508, -2.92568434, -2.83342359, -2.74116284,\n",
       "        -2.64890209, -2.55664135, -2.4643806 , -2.37211985, -2.27985911,\n",
       "        -2.18759836, -2.09533761, -2.00307686, -1.91081612, -1.81855537,\n",
       "        -1.72629462, -1.63403387, -1.54177313, -1.44951238, -1.35725163,\n",
       "        -1.26499089, -1.17273014, -1.08046939, -0.98820864, -0.8959479 ,\n",
       "        -0.80368715, -0.7114264 , -0.61916565, -0.52690491, -0.43464416,\n",
       "        -0.34238341, -0.25012266, -0.15786192, -0.06560117,  0.02665958,\n",
       "         0.11892032,  0.21118107,  0.30344182,  0.39570257,  0.48796331,\n",
       "         0.58022406,  0.67248481,  0.76474556,  0.8570063 ,  0.94926705,\n",
       "         1.0415278 ,  1.13378854,  1.22604929,  1.31831004,  1.41057079,\n",
       "         1.50283153,  1.59509228,  1.68735303,  1.77961378,  1.87187452,\n",
       "         1.96413527,  2.05639602,  2.14865676,  2.24091751,  2.33317826,\n",
       "         2.42543901,  2.51769975,  2.6099605 ,  2.70222125,  2.794482  ,\n",
       "         2.88674274,  2.97900349,  3.07126424,  3.16352498,  3.25578573,\n",
       "         3.34804648,  3.44030723,  3.53256797,  3.62482872,  3.71708947,\n",
       "         3.80935022,  3.90161096,  3.99387171,  4.08613246,  4.1783932 ,\n",
       "         4.27065395,  4.3629147 ,  4.45517545,  4.54743619,  4.63969694,\n",
       "         4.73195769]),\n",
       " <BarContainer object of 100 artists>)"
      ]
     },
     "execution_count": 60,
     "metadata": {},
     "output_type": "execute_result"
    },
    {
     "data": {
      "image/png": "[encoded data removed]",
      "text/plain": [
       "<Figure size 432x288 with 1 Axes>"
      ]
     },
     "metadata": {
      "needs_background": "light"
     },
     "output_type": "display_data"
    }
   ],
   "source": [
    "\n",
    "rng = np.random.default_rng(0)\n",
    "\n",
    "samples = rng.standard_normal(100000)\n",
    "\n",
    "fig, ax = plt.subplots()\n",
    "\n",
    "ax.hist(samples, bins=100)"
   ]
  },
  {
   "cell_type": "markdown",
   "id": "fdee2f98",
   "metadata": {},
   "source": [
    "---\n",
    "\n",
    "\n",
    "## References\n",
    "\n",
    "[1] https://short-fact.com/how-many-outcomes-are-there-if-you-flip-4-coins/\n",
    "<br/>\n",
    "\n",
    "[2] https://theprogrammingexpert.com/python-coin-flip/\n",
    "<br/>\n",
    "\n",
    "[3] https://qr.ae/prvxZB\n",
    "<br/>\n",
    "\n",
    "[4] https://www.omnicalculator.com/statistics/coin-flip-probability\n",
    "<br/>\n",
    "\n",
    "[5] https://stackoverflow.com/questions/49769990/r-binomial-distribution-barplot\n",
    "<br/>\n",
    "\n",
    "[6] https://www.dummies.com/article/business-careers-money/business/accounting/calculation-analysis/how-to-graph-the-binomial-distribution-145938/\n",
    "<br/>\n",
    "\n",
    "[7] https://www.statology.org/generate-normal-distribution-python/\n",
    "br/>\n",
    "\n",
    "[8]\n",
    "<br/>"
   ]
  },
  {
   "cell_type": "code",
   "execution_count": null,
   "id": "d6858c34",
   "metadata": {},
   "outputs": [],
   "source": []
  }
 ],
 "metadata": {
  "kernelspec": {
   "display_name": "Python 3 (ipykernel)",
   "language": "python",
   "name": "python3"
  },
  "language_info": {
   "codemirror_mode": {
    "name": "ipython",
    "version": 3
   },
   "file_extension": ".py",
   "mimetype": "text/x-python",
   "name": "python",
   "nbconvert_exporter": "python",
   "pygments_lexer": "ipython3",
   "version": "3.9.7"
  }
 },
 "nbformat": 4,
 "nbformat_minor": 5
}
